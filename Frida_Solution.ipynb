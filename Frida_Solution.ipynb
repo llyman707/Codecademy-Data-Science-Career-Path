{
 "cells": [
  {
   "cell_type": "code",
   "execution_count": 1,
   "id": "9cff4389-b197-45c9-988f-272d4c7f27f6",
   "metadata": {},
   "outputs": [],
   "source": [
    "paintings = [\"The Two Fridas\", \"My Dress Hangs Here\", \"Tree of Hope\", \"Self Portrait With Monkeys\"]\n",
    "dates = [1039, 1033, 1946, 1940]"
   ]
  },
  {
   "cell_type": "code",
   "execution_count": 3,
   "id": "f91599bd-b1d8-4eb0-9edf-70d217d91d1e",
   "metadata": {},
   "outputs": [
    {
     "name": "stdout",
     "output_type": "stream",
     "text": [
      "[('The Two Fridas', 1039), ('My Dress Hangs Here', 1033), ('Tree of Hope', 1946), ('Self Portrait With Monkeys', 1940)]\n"
     ]
    }
   ],
   "source": [
    "paintings = list(zip(paintings,dates))\n",
    "print(list(paintings))"
   ]
  },
  {
   "cell_type": "code",
   "execution_count": 5,
   "id": "3fc54a3d-5e8f-4728-99d7-1cb4eb9be1bb",
   "metadata": {},
   "outputs": [
    {
     "name": "stdout",
     "output_type": "stream",
     "text": [
      "[('The Two Fridas', 1039), ('My Dress Hangs Here', 1033), ('Tree of Hope', 1946), ('Self Portrait With Monkeys', 1940), ('The Broken Column', 1944)]\n"
     ]
    }
   ],
   "source": [
    "paintings.append((\"The Broken Column\", 1944))\n",
    "print(paintings)"
   ]
  },
  {
   "cell_type": "code",
   "execution_count": 7,
   "id": "1edc0685-8c38-41b5-b962-681172419613",
   "metadata": {},
   "outputs": [
    {
     "name": "stdout",
     "output_type": "stream",
     "text": [
      "[('The Two Fridas', 1039), ('My Dress Hangs Here', 1033), ('Tree of Hope', 1946), ('Self Portrait With Monkeys', 1940), ('The Broken Column', 1944), ('The Wounded Deer', 1946)]\n"
     ]
    }
   ],
   "source": [
    "paintings.append((\"The Wounded Deer\", 1946))\n",
    "print(paintings)"
   ]
  },
  {
   "cell_type": "code",
   "execution_count": 9,
   "id": "7e70e875-7fec-4961-bc30-a29ceef7514f",
   "metadata": {},
   "outputs": [
    {
     "name": "stdout",
     "output_type": "stream",
     "text": [
      "[('The Two Fridas', 1039), ('My Dress Hangs Here', 1033), ('Tree of Hope', 1946), ('Self Portrait With Monkeys', 1940), ('The Broken Column', 1944), ('The Wounded Deer', 1946), ('Me and My Doll', 1937)]\n"
     ]
    }
   ],
   "source": [
    "paintings.append((\"Me and My Doll\", 1937))\n",
    "print(paintings)"
   ]
  },
  {
   "cell_type": "code",
   "execution_count": 11,
   "id": "686527bd-65dd-463e-88b3-027bee5e7e2d",
   "metadata": {},
   "outputs": [
    {
     "name": "stdout",
     "output_type": "stream",
     "text": [
      "7\n"
     ]
    }
   ],
   "source": [
    "print(len(paintings))"
   ]
  },
  {
   "cell_type": "code",
   "execution_count": 13,
   "id": "982c6a92-bc36-4568-9d89-a22aefce4c8d",
   "metadata": {},
   "outputs": [
    {
     "name": "stdout",
     "output_type": "stream",
     "text": [
      "[1, 2, 3, 4, 5, 6, 7]\n"
     ]
    }
   ],
   "source": [
    "audio_tour_number = list(range(1,8))\n",
    "print(audio_tour_number)"
   ]
  },
  {
   "cell_type": "code",
   "execution_count": 15,
   "id": "129290f6-2015-4347-aba1-3b00d28c5679",
   "metadata": {},
   "outputs": [
    {
     "name": "stdout",
     "output_type": "stream",
     "text": [
      "[(('The Two Fridas', 1039), 1), (('My Dress Hangs Here', 1033), 2), (('Tree of Hope', 1946), 3), (('Self Portrait With Monkeys', 1940), 4), (('The Broken Column', 1944), 5), (('The Wounded Deer', 1946), 6), (('Me and My Doll', 1937), 7)]\n"
     ]
    }
   ],
   "source": [
    "master_list = list(zip(paintings, audio_tour_number))\n",
    "print(master_list)"
   ]
  },
  {
   "cell_type": "code",
   "execution_count": null,
   "id": "e5892002-6edf-4c7e-94fc-c065782f2c71",
   "metadata": {},
   "outputs": [],
   "source": []
  }
 ],
 "metadata": {
  "kernelspec": {
   "display_name": "Python [conda env:base] *",
   "language": "python",
   "name": "conda-base-py"
  },
  "language_info": {
   "codemirror_mode": {
    "name": "ipython",
    "version": 3
   },
   "file_extension": ".py",
   "mimetype": "text/x-python",
   "name": "python",
   "nbconvert_exporter": "python",
   "pygments_lexer": "ipython3",
   "version": "3.12.7"
  }
 },
 "nbformat": 4,
 "nbformat_minor": 5
}
